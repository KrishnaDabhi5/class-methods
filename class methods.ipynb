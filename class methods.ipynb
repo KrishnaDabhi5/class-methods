{
 "cells": [
  {
   "cell_type": "code",
   "execution_count": 1,
   "id": "ce2ea6ac",
   "metadata": {},
   "outputs": [],
   "source": [
    "class skills:\n",
    "    def __init__(self, name, email):\n",
    "        self.name = name\n",
    "        self.email = email\n",
    "        \n",
    "    def students_details(self):\n",
    "        print(self.name, self.email)"
   ]
  },
  {
   "cell_type": "code",
   "execution_count": 2,
   "id": "917522b7",
   "metadata": {},
   "outputs": [],
   "source": [
    "s = skills(\"mohan\", \"mohan@gmail.com\")"
   ]
  },
  {
   "cell_type": "code",
   "execution_count": 3,
   "id": "a87b68d1",
   "metadata": {},
   "outputs": [
    {
     "data": {
      "text/plain": [
       "'mohan'"
      ]
     },
     "execution_count": 3,
     "metadata": {},
     "output_type": "execute_result"
    }
   ],
   "source": [
    "s.name"
   ]
  },
  {
   "cell_type": "code",
   "execution_count": 4,
   "id": "f0cc72cf",
   "metadata": {},
   "outputs": [
    {
     "data": {
      "text/plain": [
       "'mohan@gmail.com'"
      ]
     },
     "execution_count": 4,
     "metadata": {},
     "output_type": "execute_result"
    }
   ],
   "source": [
    "s.email"
   ]
  },
  {
   "cell_type": "code",
   "execution_count": 5,
   "id": "759132fb",
   "metadata": {},
   "outputs": [
    {
     "name": "stdout",
     "output_type": "stream",
     "text": [
      "mohan mohan@gmail.com\n"
     ]
    }
   ],
   "source": [
    " s.students_details()"
   ]
  },
  {
   "cell_type": "code",
   "execution_count": 8,
   "id": "f57f5e18",
   "metadata": {},
   "outputs": [],
   "source": [
    "class skills1:\n",
    "    def __init__(self, name, email):\n",
    "        self.name = name\n",
    "        self.email = email\n",
    "        \n",
    "    @classmethod\n",
    "    def details(cls, name, email):\n",
    "        return cls(name, email)\n",
    "        \n",
    "    def students_details(self):\n",
    "        print(self.name, self.email)"
   ]
  },
  {
   "cell_type": "code",
   "execution_count": 10,
   "id": "27c451e1",
   "metadata": {},
   "outputs": [],
   "source": [
    "s1 = skills1.details('krishna','krishna@gmail.com')"
   ]
  },
  {
   "cell_type": "code",
   "execution_count": 11,
   "id": "0614873f",
   "metadata": {},
   "outputs": [
    {
     "data": {
      "text/plain": [
       "'krishna'"
      ]
     },
     "execution_count": 11,
     "metadata": {},
     "output_type": "execute_result"
    }
   ],
   "source": [
    "s1.name"
   ]
  },
  {
   "cell_type": "code",
   "execution_count": 12,
   "id": "2dbf0f4f",
   "metadata": {},
   "outputs": [
    {
     "data": {
      "text/plain": [
       "'krishna@gmail.com'"
      ]
     },
     "execution_count": 12,
     "metadata": {},
     "output_type": "execute_result"
    }
   ],
   "source": [
    "s1.email"
   ]
  },
  {
   "cell_type": "code",
   "execution_count": 13,
   "id": "4e7c63bd",
   "metadata": {},
   "outputs": [
    {
     "name": "stdout",
     "output_type": "stream",
     "text": [
      "krishna krishna@gmail.com\n"
     ]
    }
   ],
   "source": [
    "s1.students_details()"
   ]
  },
  {
   "cell_type": "code",
   "execution_count": 23,
   "id": "807e8b10",
   "metadata": {},
   "outputs": [],
   "source": [
    "class skills2:\n",
    "    \n",
    "    mobile_no = 97788468974\n",
    "    \n",
    "    def __init__(self, name, email):\n",
    "        self.name = name\n",
    "        self.email = email\n",
    "        \n",
    "    @classmethod\n",
    "    def change_no(cls, mobile):\n",
    "        skills2.mobile_no = mobile\n",
    "        \n",
    "    @classmethod\n",
    "    def details(cls, name, email):\n",
    "        return cls(name, email)\n",
    "        \n",
    "    def students_details(self):\n",
    "        print(self.name, self.email)"
   ]
  },
  {
   "cell_type": "code",
   "execution_count": 21,
   "id": "8ca09496",
   "metadata": {},
   "outputs": [
    {
     "data": {
      "text/plain": [
       "97788468974"
      ]
     },
     "execution_count": 21,
     "metadata": {},
     "output_type": "execute_result"
    }
   ],
   "source": [
    "skills2.mobile_no"
   ]
  },
  {
   "cell_type": "code",
   "execution_count": 24,
   "id": "b2b2f184",
   "metadata": {},
   "outputs": [],
   "source": [
    "skills2.change_no(9645525432)"
   ]
  },
  {
   "cell_type": "code",
   "execution_count": 27,
   "id": "321b04f5",
   "metadata": {},
   "outputs": [
    {
     "data": {
      "text/plain": [
       "9645525432"
      ]
     },
     "execution_count": 27,
     "metadata": {},
     "output_type": "execute_result"
    }
   ],
   "source": [
    "skills2.mobile_no"
   ]
  },
  {
   "cell_type": "code",
   "execution_count": 28,
   "id": "62b520b9",
   "metadata": {},
   "outputs": [],
   "source": [
    "class skills2:\n",
    "    \n",
    "    mobile_no = 97788468974\n",
    "    \n",
    "    def __init__(self, name, email):\n",
    "        self.name = name\n",
    "        self.email = email\n",
    "        \n",
    "    @classmethod\n",
    "    def change_no(cls, mobile):\n",
    "        skills2.mobile_no = mobile\n",
    "        \n",
    "    @classmethod\n",
    "    def details(cls, name, email):\n",
    "        return cls(name, email)\n",
    "        \n",
    "    def students_details(self):\n",
    "        print(self.name, self.email,skills2.mobile_no)"
   ]
  },
  {
   "cell_type": "code",
   "execution_count": 29,
   "id": "7ff2b290",
   "metadata": {},
   "outputs": [],
   "source": [
    "s_obj = skills2(\"krishna\",\"krishna@gmail.com\")"
   ]
  },
  {
   "cell_type": "code",
   "execution_count": 30,
   "id": "a019689d",
   "metadata": {},
   "outputs": [
    {
     "name": "stdout",
     "output_type": "stream",
     "text": [
      "krishna krishna@gmail.com 97788468974\n"
     ]
    }
   ],
   "source": [
    "s_obj.students_details()"
   ]
  },
  {
   "cell_type": "code",
   "execution_count": 31,
   "id": "afc35bb9",
   "metadata": {},
   "outputs": [],
   "source": [
    "skills2.change_no(5782358562)"
   ]
  },
  {
   "cell_type": "code",
   "execution_count": 32,
   "id": "76dc3f0e",
   "metadata": {},
   "outputs": [
    {
     "data": {
      "text/plain": [
       "5782358562"
      ]
     },
     "execution_count": 32,
     "metadata": {},
     "output_type": "execute_result"
    }
   ],
   "source": [
    "skills2.mobile_no"
   ]
  },
  {
   "cell_type": "code",
   "execution_count": 33,
   "id": "3b6f4c8e",
   "metadata": {},
   "outputs": [],
   "source": [
    "s = skills2.details('rohan','rohan@gmail.com')"
   ]
  },
  {
   "cell_type": "code",
   "execution_count": 34,
   "id": "5cf1626c",
   "metadata": {},
   "outputs": [
    {
     "name": "stdout",
     "output_type": "stream",
     "text": [
      "rohan rohan@gmail.com 5782358562\n"
     ]
    }
   ],
   "source": [
    "s.students_details()"
   ]
  },
  {
   "cell_type": "code",
   "execution_count": 35,
   "id": "15f8bb36",
   "metadata": {},
   "outputs": [],
   "source": [
    "class skills3:\n",
    "    \n",
    "    mobile_no = 97788468974\n",
    "    \n",
    "    def __init__(self, name, email):\n",
    "        self.name = name\n",
    "        self.email = email\n",
    "        \n",
    "    @classmethod\n",
    "    def change_no(cls, mobile):\n",
    "        skills2.mobile_no = mobile\n",
    "        \n",
    "    @classmethod\n",
    "    def details(cls, name, email):\n",
    "        return cls(name, email)\n",
    "        \n",
    "    def students_details(self):\n",
    "        print(self.name, self.email,skills2.mobile_no)"
   ]
  },
  {
   "cell_type": "code",
   "execution_count": 36,
   "id": "f3734603",
   "metadata": {},
   "outputs": [],
   "source": [
    "def course_details(cls, course_name):\n",
    "    print(\"course name is\", course_name)"
   ]
  },
  {
   "cell_type": "code",
   "execution_count": 38,
   "id": "8347aa38",
   "metadata": {},
   "outputs": [],
   "source": [
    "skills3.course_details = classmethod(course_details)"
   ]
  },
  {
   "cell_type": "code",
   "execution_count": 39,
   "id": "291bce00",
   "metadata": {},
   "outputs": [
    {
     "name": "stdout",
     "output_type": "stream",
     "text": [
      "course name is data science\n"
     ]
    }
   ],
   "source": [
    "skills3.course_details('data science')"
   ]
  },
  {
   "cell_type": "code",
   "execution_count": 43,
   "id": "236a3724",
   "metadata": {},
   "outputs": [],
   "source": [
    "def mentor(cls, list_of_mentor):\n",
    "    print(list_of_mentors)"
   ]
  },
  {
   "cell_type": "code",
   "execution_count": 44,
   "id": "df07bd37",
   "metadata": {},
   "outputs": [],
   "source": [
    "skills3.mentor = classmethod(mentor)"
   ]
  },
  {
   "cell_type": "markdown",
   "id": "e292d50f",
   "metadata": {},
   "source": []
  },
  {
   "cell_type": "code",
   "execution_count": 47,
   "id": "6d8cd8b9",
   "metadata": {},
   "outputs": [],
   "source": [
    "class skills4:\n",
    "    \n",
    "    mobile_no = 97788468974\n",
    "    \n",
    "    def __init__(self, name, email):\n",
    "        self.name = name\n",
    "        self.email = email\n",
    "        \n",
    "    @classmethod\n",
    "    def change_no(cls, mobile):\n",
    "        skills2.mobile_no = mobile\n",
    "        \n",
    "    @classmethod\n",
    "    def details(cls, name, email):\n",
    "        return cls(name, email)\n",
    "        \n",
    "    def students_details(self):\n",
    "        print(self.name, self.email,skills2.mobile_no)"
   ]
  },
  {
   "cell_type": "code",
   "execution_count": 48,
   "id": "b38c650d",
   "metadata": {},
   "outputs": [],
   "source": [
    "del skills4.change_no"
   ]
  },
  {
   "cell_type": "code",
   "execution_count": 49,
   "id": "522aa8f5",
   "metadata": {},
   "outputs": [
    {
     "ename": "AttributeError",
     "evalue": "type object 'skills4' has no attribute 'change_no'",
     "output_type": "error",
     "traceback": [
      "\u001b[1;31m---------------------------------------------------------------------------\u001b[0m",
      "\u001b[1;31mAttributeError\u001b[0m                            Traceback (most recent call last)",
      "Cell \u001b[1;32mIn [49], line 1\u001b[0m\n\u001b[1;32m----> 1\u001b[0m \u001b[43mskills4\u001b[49m\u001b[38;5;241;43m.\u001b[39;49m\u001b[43mchange_no\u001b[49m(\u001b[38;5;241m36456162\u001b[39m)\n",
      "\u001b[1;31mAttributeError\u001b[0m: type object 'skills4' has no attribute 'change_no'"
     ]
    }
   ],
   "source": [
    "skills4.change_no(36456162)"
   ]
  },
  {
   "cell_type": "code",
   "execution_count": 50,
   "id": "8bff7fff",
   "metadata": {},
   "outputs": [],
   "source": [
    "delattr(skills4, \"details\")"
   ]
  },
  {
   "cell_type": "code",
   "execution_count": 52,
   "id": "64a2a64e",
   "metadata": {},
   "outputs": [],
   "source": [
    "delattr(skills4, \"students_details\")"
   ]
  },
  {
   "cell_type": "code",
   "execution_count": null,
   "id": "952a9195",
   "metadata": {},
   "outputs": [],
   "source": [
    "\n"
   ]
  }
 ],
 "metadata": {
  "kernelspec": {
   "display_name": "Python 3 (ipykernel)",
   "language": "python",
   "name": "python3"
  },
  "language_info": {
   "codemirror_mode": {
    "name": "ipython",
    "version": 3
   },
   "file_extension": ".py",
   "mimetype": "text/x-python",
   "name": "python",
   "nbconvert_exporter": "python",
   "pygments_lexer": "ipython3",
   "version": "3.10.8"
  }
 },
 "nbformat": 4,
 "nbformat_minor": 5
}
